{
 "cells": [
  {
   "cell_type": "markdown",
   "metadata": {},
   "source": [
    "# Algorithm Time Complexity Exploration"
   ]
  },
  {
   "cell_type": "markdown",
   "metadata": {},
   "source": [
    "The goal of this project is to explore different algorithms to understand their time complexities."
   ]
  },
  {
   "cell_type": "markdown",
   "metadata": {},
   "source": [
    "## Loading Data"
   ]
  },
  {
   "cell_type": "code",
   "execution_count": 1,
   "metadata": {},
   "outputs": [],
   "source": [
    "import csv"
   ]
  },
  {
   "cell_type": "code",
   "execution_count": 2,
   "metadata": {},
   "outputs": [],
   "source": [
    "with open('laptops.csv', encoding = 'latin-1') as file:\n",
    "    reader = csv.reader(file)\n",
    "    rows = list(reader)\n",
    "    header = rows[0]\n",
    "    rows = rows[1:]"
   ]
  },
  {
   "cell_type": "code",
   "execution_count": 3,
   "metadata": {
    "scrolled": true
   },
   "outputs": [
    {
     "data": {
      "text/plain": [
       "[['7276653',\n",
       "  'Apple',\n",
       "  'MacBook Pro',\n",
       "  'Ultrabook',\n",
       "  '13.3',\n",
       "  'IPS Panel Retina Display 2560x1600',\n",
       "  'Intel Core i5 2.3GHz',\n",
       "  '8GB',\n",
       "  '128GB SSD',\n",
       "  'Intel Iris Plus Graphics 640',\n",
       "  'macOS',\n",
       "  '1.37kg',\n",
       "  '1340'],\n",
       " ['1330526',\n",
       "  'Apple',\n",
       "  'Macbook Air',\n",
       "  'Ultrabook',\n",
       "  '13.3',\n",
       "  '1440x900',\n",
       "  'Intel Core i5 1.8GHz',\n",
       "  '8GB',\n",
       "  '128GB Flash Storage',\n",
       "  'Intel HD Graphics 6000',\n",
       "  'macOS',\n",
       "  '1.34kg',\n",
       "  '899'],\n",
       " ['5938254',\n",
       "  'HP',\n",
       "  '250 G6',\n",
       "  'Notebook',\n",
       "  '15.6',\n",
       "  'Full HD 1920x1080',\n",
       "  'Intel Core i5 7200U 2.5GHz',\n",
       "  '8GB',\n",
       "  '256GB SSD',\n",
       "  'Intel HD Graphics 620',\n",
       "  'No OS',\n",
       "  '1.86kg',\n",
       "  '575'],\n",
       " ['3811906',\n",
       "  'Apple',\n",
       "  'MacBook Pro',\n",
       "  'Ultrabook',\n",
       "  '15.4',\n",
       "  'IPS Panel Retina Display 2880x1800',\n",
       "  'Intel Core i7 2.7GHz',\n",
       "  '16GB',\n",
       "  '512GB SSD',\n",
       "  'AMD Radeon Pro 455',\n",
       "  'macOS',\n",
       "  '1.83kg',\n",
       "  '2537'],\n",
       " ['4333900',\n",
       "  'Apple',\n",
       "  'MacBook Pro',\n",
       "  'Ultrabook',\n",
       "  '13.3',\n",
       "  'IPS Panel Retina Display 2560x1600',\n",
       "  'Intel Core i5 3.1GHz',\n",
       "  '8GB',\n",
       "  '256GB SSD',\n",
       "  'Intel Iris Plus Graphics 650',\n",
       "  'macOS',\n",
       "  '1.37kg',\n",
       "  '1804']]"
      ]
     },
     "execution_count": 3,
     "metadata": {},
     "output_type": "execute_result"
    }
   ],
   "source": [
    "rows[:5]"
   ]
  },
  {
   "cell_type": "markdown",
   "metadata": {},
   "source": [
    "Let's build a class to store the rows of the csv and store any additional data we may want."
   ]
  },
  {
   "cell_type": "markdown",
   "metadata": {},
   "source": [
    "## Inventory Class"
   ]
  },
  {
   "cell_type": "code",
   "execution_count": 4,
   "metadata": {},
   "outputs": [],
   "source": [
    "class Inventory():\n",
    "    def __init__(self, csv_filename):\n",
    "        file = open(csv_filename)\n",
    "        reader = csv.reader(file)\n",
    "        rows = list(reader)\n",
    "        self.header = rows[0]\n",
    "        self.rows = rows[1:]"
   ]
  },
  {
   "cell_type": "code",
   "execution_count": 5,
   "metadata": {},
   "outputs": [
    {
     "name": "stdout",
     "output_type": "stream",
     "text": [
      "['ID', 'Company', 'Product', 'TypeName', 'Inches', 'ScreenResolution', 'Cpu', 'Ram', 'Memory', 'Gpu', 'OpSys', 'Weight', 'Price_euros']\n",
      "1303\n"
     ]
    }
   ],
   "source": [
    "laptops =  Inventory('laptops.csv')\n",
    "print(laptops.header)\n",
    "print(len(laptops.rows))"
   ]
  },
  {
   "cell_type": "markdown",
   "metadata": {},
   "source": [
    "## Retrieve Data With ID"
   ]
  },
  {
   "cell_type": "code",
   "execution_count": 6,
   "metadata": {},
   "outputs": [],
   "source": [
    "class Inventory():\n",
    "    def __init__(self, csv_filename):\n",
    "        file = open(csv_filename)\n",
    "        reader = csv.reader(file)\n",
    "        rows = list(reader)\n",
    "        self.header = rows[0]\n",
    "        self.rows = rows[1:]\n",
    "    \n",
    "    def get_laptop_from_id(self, laptop_id):\n",
    "        for row in self.rows:\n",
    "            if row[0] == laptop_id:\n",
    "                return row\n",
    "        return None"
   ]
  },
  {
   "cell_type": "code",
   "execution_count": 7,
   "metadata": {},
   "outputs": [
    {
     "name": "stdout",
     "output_type": "stream",
     "text": [
      "['4333900', 'Apple', 'MacBook Pro', 'Ultrabook', '13.3', 'IPS Panel Retina Display 2560x1600', 'Intel Core i5 3.1GHz', '8GB', '256GB SSD', 'Intel Iris Plus Graphics 650', 'macOS', '1.37kg', '1804']\n"
     ]
    }
   ],
   "source": [
    "laptops =  Inventory('laptops.csv')\n",
    "print(laptops.get_laptop_from_id('4333900'))"
   ]
  },
  {
   "cell_type": "markdown",
   "metadata": {},
   "source": [
    "The 'get_laptop_from_id' algorithm has time complexity O(N) where N is the number of rows. To reduce the complexity, we will use the dictionary data structure to efficiently retrieve the data."
   ]
  },
  {
   "cell_type": "markdown",
   "metadata": {},
   "source": [
    "## Retrieve Data With ID Using Dict "
   ]
  },
  {
   "cell_type": "code",
   "execution_count": 8,
   "metadata": {},
   "outputs": [],
   "source": [
    "class Inventory():\n",
    "    def __init__(self, csv_filename):\n",
    "        file = open(csv_filename)\n",
    "        reader = csv.reader(file)\n",
    "        rows = list(reader)\n",
    "        self.header = rows[0]\n",
    "        self.rows = rows[1:]\n",
    "        self.id_to_row = {}\n",
    "        for row in self.rows:\n",
    "            self.id_to_row[row[0]] = row\n",
    "    \n",
    "    def get_laptop_from_id(self, laptop_id):\n",
    "        for row in self.rows:\n",
    "            if row[0] == laptop_id:\n",
    "                return row\n",
    "        return None\n",
    "    \n",
    "    def get_laptop_from_id_fast(self, laptop_id):\n",
    "        if laptop_id in self.id_to_row:\n",
    "            return self.id_to_row[laptop_id]\n",
    "        else:\n",
    "            return None"
   ]
  },
  {
   "cell_type": "code",
   "execution_count": 9,
   "metadata": {},
   "outputs": [
    {
     "name": "stdout",
     "output_type": "stream",
     "text": [
      "['4333900', 'Apple', 'MacBook Pro', 'Ultrabook', '13.3', 'IPS Panel Retina Display 2560x1600', 'Intel Core i5 3.1GHz', '8GB', '256GB SSD', 'Intel Iris Plus Graphics 650', 'macOS', '1.37kg', '1804']\n"
     ]
    }
   ],
   "source": [
    "laptops =  Inventory('laptops.csv')\n",
    "print(laptops.get_laptop_from_id_fast('4333900'))"
   ]
  },
  {
   "cell_type": "markdown",
   "metadata": {},
   "source": [
    "The 'get_laptop_from_id' algorithm is now more efficient with time complexity O(1). We can compare the runtimes of the two algorithms to see if it's truly faster."
   ]
  },
  {
   "cell_type": "markdown",
   "metadata": {},
   "source": [
    "## Compare Runtime O(N) vs. O(1)"
   ]
  },
  {
   "cell_type": "code",
   "execution_count": 10,
   "metadata": {},
   "outputs": [],
   "source": [
    "import time\n",
    "import random"
   ]
  },
  {
   "cell_type": "code",
   "execution_count": 11,
   "metadata": {},
   "outputs": [],
   "source": [
    "ids = [str(random.randint(1000000, 9999999)) for _ in range(10000)]"
   ]
  },
  {
   "cell_type": "code",
   "execution_count": 12,
   "metadata": {},
   "outputs": [
    {
     "name": "stdout",
     "output_type": "stream",
     "text": [
      "Total Time Without Dict: 0.7271323204040527\n",
      "Total Time With Dict: 0.004960775375366211\n",
      "Using dictionary to retrieve data was ~147 times faster.\n"
     ]
    }
   ],
   "source": [
    "laptops = Inventory('laptops.csv')\n",
    "total_time_no_dict = 0\n",
    "for i in ids:\n",
    "    start = time.time()\n",
    "    laptops.get_laptop_from_id(i)\n",
    "    end = time.time()\n",
    "    total_time_no_dict += (end - start)\n",
    "\n",
    "total_time_dict = 0\n",
    "for i in ids:\n",
    "    start = time.time()\n",
    "    laptops.get_laptop_from_id_fast(i)\n",
    "    end = time.time()\n",
    "    total_time_dict += (end - start)\n",
    "    \n",
    "print('Total Time Without Dict: {}'.format(total_time_no_dict))\n",
    "print('Total Time With Dict: {}'.format(total_time_dict))\n",
    "print('Using dictionary to retrieve data was ~{} times faster.'.format(round(total_time_no_dict / total_time_dict)))"
   ]
  },
  {
   "cell_type": "markdown",
   "metadata": {},
   "source": [
    "## Check Price"
   ]
  },
  {
   "cell_type": "code",
   "execution_count": 13,
   "metadata": {},
   "outputs": [],
   "source": [
    "class Inventory():\n",
    "    def __init__(self, csv_filename):\n",
    "        file = open(csv_filename)\n",
    "        reader = csv.reader(file)\n",
    "        rows = list(reader)\n",
    "        self.header = rows[0]\n",
    "        self.rows = rows[1:]\n",
    "        self.id_to_row = {}\n",
    "        for row in self.rows:\n",
    "            self.id_to_row[row[0]] = row\n",
    "    \n",
    "    def get_laptop_from_id(self, laptop_id):\n",
    "        for row in self.rows:\n",
    "            if row[0] == laptop_id:\n",
    "                return row\n",
    "        return None\n",
    "    \n",
    "    def get_laptop_from_id_fast(self, laptop_id):\n",
    "        if laptop_id in self.id_to_row:\n",
    "            return self.id_to_row[laptop_id]\n",
    "        else:\n",
    "            return None\n",
    "        \n",
    "    def check_promotion_dollars(self, dollars):\n",
    "        for row1 in self.rows:\n",
    "            price1 = int(row1[-1])\n",
    "            if price1 == dollars:\n",
    "                return True\n",
    "            for row2 in self.rows:\n",
    "                price2 = int(row2[-1])\n",
    "                if price1 + price2 == dollars:\n",
    "                    return True\n",
    "        return False"
   ]
  },
  {
   "cell_type": "code",
   "execution_count": 14,
   "metadata": {},
   "outputs": [
    {
     "name": "stdout",
     "output_type": "stream",
     "text": [
      "True\n",
      "False\n"
     ]
    }
   ],
   "source": [
    "laptops = Inventory('laptops.csv')\n",
    "print(laptops.check_promotion_dollars(1000))\n",
    "print(laptops.check_promotion_dollars(100))"
   ]
  },
  {
   "cell_type": "markdown",
   "metadata": {},
   "source": [
    "The 'check_promotion_dollars' algorithm checks to see if there is one or two laptops that can be bought exactly with the inputted dollar. The algorithm time complexity is O(N^2), but we can use the set data structure to reduce the complexity."
   ]
  },
  {
   "cell_type": "markdown",
   "metadata": {},
   "source": [
    "## Check Price with Set"
   ]
  },
  {
   "cell_type": "code",
   "execution_count": 15,
   "metadata": {},
   "outputs": [],
   "source": [
    "class Inventory():\n",
    "    def __init__(self, csv_filename):\n",
    "        file = open(csv_filename)\n",
    "        reader = csv.reader(file)\n",
    "        rows = list(reader)\n",
    "        self.header = rows[0]\n",
    "        self.rows = rows[1:]\n",
    "        self.id_to_row = {}\n",
    "        self.prices = set()\n",
    "        for row in self.rows:\n",
    "            row[-1] = int(row[-1])\n",
    "            self.id_to_row[row[0]] = row\n",
    "            self.prices.add(row[-1])\n",
    "    \n",
    "    def get_laptop_from_id(self, laptop_id):\n",
    "        for row in self.rows:\n",
    "            if row[0] == laptop_id:\n",
    "                return row\n",
    "        return None\n",
    "    \n",
    "    def get_laptop_from_id_fast(self, laptop_id):\n",
    "        if laptop_id in self.id_to_row:\n",
    "            return self.id_to_row[laptop_id]\n",
    "        else:\n",
    "            return None\n",
    "        \n",
    "    def check_promotion_dollars(self, dollars):\n",
    "        for row1 in self.rows:\n",
    "            price1 = int(row1[-1])\n",
    "            if price1 == dollars:\n",
    "                return True\n",
    "            for row2 in self.rows:\n",
    "                price2 = int(row2[-1])\n",
    "                if price1 + price2 == dollars:\n",
    "                    return True\n",
    "        return False\n",
    "    \n",
    "    def check_promotion_dollars_fast(self, dollars):\n",
    "        if dollars in self.prices:\n",
    "            return True\n",
    "        for price in self.prices:\n",
    "            if dollars - price in self.prices:\n",
    "                return True\n",
    "        return False"
   ]
  },
  {
   "cell_type": "code",
   "execution_count": 16,
   "metadata": {},
   "outputs": [
    {
     "name": "stdout",
     "output_type": "stream",
     "text": [
      "True\n",
      "False\n"
     ]
    }
   ],
   "source": [
    "laptops = Inventory('laptops.csv')\n",
    "print(laptops.check_promotion_dollars(1000))\n",
    "print(laptops.check_promotion_dollars(100))"
   ]
  },
  {
   "cell_type": "markdown",
   "metadata": {},
   "source": [
    "The 'check_promotion_dollars_fast' has time complexity O(N) by creating and storing a set of the prices in the object."
   ]
  },
  {
   "cell_type": "markdown",
   "metadata": {},
   "source": [
    "## Compare Runtime O(N^2) vs. O(N)"
   ]
  },
  {
   "cell_type": "code",
   "execution_count": 17,
   "metadata": {},
   "outputs": [],
   "source": [
    "prices = [random.randint(100, 500) for _ in range(100)]\n",
    "laptops = Inventory('laptops.csv')\n",
    "total_time_no_set = 0\n",
    "for price in prices:\n",
    "    start = time.time()\n",
    "    laptops.check_promotion_dollars(price)\n",
    "    end = time.time()\n",
    "    total_time_no_set += end - start\n",
    "    \n",
    "total_time_set = 0\n",
    "for price in prices:\n",
    "    start = time.time()\n",
    "    laptops.check_promotion_dollars_fast(price)\n",
    "    end = time.time()\n",
    "    total_time_set += end - start"
   ]
  },
  {
   "cell_type": "code",
   "execution_count": 18,
   "metadata": {},
   "outputs": [
    {
     "name": "stdout",
     "output_type": "stream",
     "text": [
      "17.164049863815308\n",
      "0.003495931625366211\n",
      "Using set was ~4910 times faster.\n"
     ]
    }
   ],
   "source": [
    "print(total_time_no_set)\n",
    "print(total_time_set)\n",
    "print('Using set was ~{} times faster.'.format(round(total_time_no_set / total_time_set)))"
   ]
  },
  {
   "cell_type": "markdown",
   "metadata": {},
   "source": [
    "## Binary Search for Laptop"
   ]
  },
  {
   "cell_type": "code",
   "execution_count": 19,
   "metadata": {},
   "outputs": [],
   "source": [
    "def row_price(row):\n",
    "    return row[-1]\n",
    "\n",
    "class Inventory():\n",
    "    def __init__(self, csv_filename):\n",
    "        file = open(csv_filename)\n",
    "        reader = csv.reader(file)\n",
    "        rows = list(reader)\n",
    "        self.header = rows[0]\n",
    "        self.rows = rows[1:]\n",
    "        self.id_to_row = {}\n",
    "        self.prices = set()\n",
    "        for row in self.rows:\n",
    "            row[-1] = int(row[-1])\n",
    "            self.id_to_row[row[0]] = row\n",
    "            self.prices.add(row[-1])\n",
    "        self.rows_by_price = sorted(self.rows, key = row_price)\n",
    "    \n",
    "    def get_laptop_from_id(self, laptop_id):\n",
    "        for row in self.rows:\n",
    "            if row[0] == laptop_id:\n",
    "                return row\n",
    "        return None\n",
    "    \n",
    "    def get_laptop_from_id_fast(self, laptop_id):\n",
    "        if laptop_id in self.id_to_row:\n",
    "            return self.id_to_row[laptop_id]\n",
    "        else:\n",
    "            return None\n",
    "        \n",
    "    def check_promotion_dollars(self, dollars):\n",
    "        for row1 in self.rows:\n",
    "            price1 = row1[-1]\n",
    "            if price1 == dollars:\n",
    "                return True\n",
    "            for row2 in self.rows:\n",
    "                price2 = row2[-1]\n",
    "                if price1 + price2 == dollars:\n",
    "                    return True\n",
    "        return False\n",
    "    \n",
    "    def check_promotion_dollars_fast(self, dollars):\n",
    "        if dollars in self.prices:\n",
    "            return True\n",
    "        for price in self.prices:\n",
    "            if dollars - price in self.prices:\n",
    "                return True\n",
    "        return False\n",
    "    \n",
    "    def find_laptop_with_price(self, target_price):\n",
    "        range_start = 0                                   \n",
    "        range_end = len(self.rows_by_price) - 1                       \n",
    "        while range_start < range_end:\n",
    "            range_middle = (range_end + range_start) // 2  \n",
    "            price = self.rows_by_price[range_middle][-1]\n",
    "            if price == target_price:                            \n",
    "                return range_middle                        \n",
    "            elif price < target_price:                           \n",
    "                range_start = range_middle + 1             \n",
    "            else:                                          \n",
    "                range_end = range_middle - 1 \n",
    "        price = self.rows_by_price[range_start][-1]\n",
    "        if price != target_price:                  \n",
    "            return -1                                      \n",
    "        return range_start\n",
    "\n",
    "    def find_first_laptop_more_expensive(self, target_price):\n",
    "        range_start = 0\n",
    "        range_end = len(self.rows_by_price) - 1\n",
    "        while range_start < range_end:\n",
    "            range_middle = (range_start + range_end) // 2\n",
    "            price = self.rows_by_price[range_middle][-1]\n",
    "            if price <= target_price:\n",
    "                range_start = range_middle + 1\n",
    "            else:\n",
    "                range_end = range_middle\n",
    "        if self.rows_by_price[range_start][-1] <= target_price:\n",
    "            return -1\n",
    "        else:\n",
    "            return range_start"
   ]
  },
  {
   "cell_type": "code",
   "execution_count": 20,
   "metadata": {},
   "outputs": [
    {
     "name": "stdout",
     "output_type": "stream",
     "text": [
      "1103\n",
      "-1\n",
      "683\n",
      "-1\n"
     ]
    }
   ],
   "source": [
    "laptops = Inventory('laptops.csv')\n",
    "print(laptops.find_laptop_with_price(1804))\n",
    "print(laptops.find_laptop_with_price(100000))\n",
    "print(laptops.find_first_laptop_more_expensive(1000))\n",
    "print(laptops.find_first_laptop_more_expensive(100000))"
   ]
  },
  {
   "cell_type": "markdown",
   "metadata": {},
   "source": [
    "The 'find_laptop_with_price' and 'find_first_laptop_more_expensive' algorithms binary search to identify the index of the laptop by first storing the rows sorted by price. The alogrithms have time complexity of O(log n)."
   ]
  },
  {
   "cell_type": "markdown",
   "metadata": {},
   "source": [
    "## Conclusion"
   ]
  },
  {
   "cell_type": "markdown",
   "metadata": {},
   "source": [
    "In this project, we used alternative algorithms and data structures to store and retrieve data efficiently in exchange for memory space."
   ]
  }
 ],
 "metadata": {
  "kernelspec": {
   "display_name": "Python 3",
   "language": "python",
   "name": "python3"
  },
  "language_info": {
   "codemirror_mode": {
    "name": "ipython",
    "version": 3
   },
   "file_extension": ".py",
   "mimetype": "text/x-python",
   "name": "python",
   "nbconvert_exporter": "python",
   "pygments_lexer": "ipython3",
   "version": "3.8.5"
  }
 },
 "nbformat": 4,
 "nbformat_minor": 4
}
